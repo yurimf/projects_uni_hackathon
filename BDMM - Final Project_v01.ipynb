{
 "cells": [
  {
   "cell_type": "markdown",
   "metadata": {},
   "source": [
    "Group number: \n",
    "\n",
    "Students (name : student number):\n",
    "\n",
    "\n",
    "1.\n",
    "\n",
    "\n",
    "2.\n",
    "\n",
    "3.\n",
    "\n",
    "4.\n",
    "\n",
    "5.\n"
   ]
  },
  {
   "cell_type": "markdown",
   "metadata": {},
   "source": [
    "## 🚚 BDMM Second Homework Assignment 🚚 \n",
    "\n",
    "_The Wide World Importers (WWI) is a wholesales novelty goods importer and distributor operating from the San Francisco bay area. In this assignment we will be working with their database._ \n",
    "You can get more information and details about the WWI database in the following link: https://docs.microsoft.com/en-us/sql/samples/wide-world-importers-what-is?view=sql-server-ver15\n",
    "\n",
    "The focus of the second assignment is modelling. We will use the World Wide Importers database and convert it to a document-based database. To that end, we will be leveraging concepts like data denormalization, indices, and mongodb design patterns. \n",
    "\n",
    "More information on the extended datamodel to be found here: </br>  \n",
    "https://docs.microsoft.com/en-us/sql/samples/wide-world-importers-oltp-database-catalog?view=sql-server-ver15"
   ]
  },
  {
   "cell_type": "markdown",
   "metadata": {},
   "source": [
    "## Problem Description\n",
    "\n",
    "Your team has just arrived at WWI (a leading company in logistics). Welcome!   <br>\n",
    "Even though business is thriving, the IT department is going through a bad time.   <br>\n",
    "Digitalization was never a priority for the company and now the company operational and analytical requirements are starting to grow beyond the capabilities of their existing data architecture.   <br>\n",
    "\n",
    "WWI data are spread accross different systems, but we've already managed to pull them all into a mongo dump file. This data file is an exact dump of the SQL data so includes all the same structure, the SQL tables become collections and the rows become documents. This means all the original SQL keys are included in the data.<br>\n",
    "Currently, the costs to develop the necessary queries to collect data to answer questions asked by the different departments are too high. <br>\n",
    "\n",
    "Management concluded it is the right time to revise and revamp the data architecture, in order to speed up operations. \n",
    "\n",
    "In that context, your team was tasked with merging all the company data into a single and coherent Mongo database. <br>\n",
    "It is expected that, with your solution, WWI will have a better understanding of their business and that the different departments will be able to obtain efficiently the answers they need.\n",
    "\n",
    "The WWI team shared with you an ERD of their current datamodel:<br>\n",
    "![datamodel](./WWI.png)"
   ]
  },
  {
   "cell_type": "markdown",
   "metadata": {},
   "source": [
    "**Note** You can open the file WWI.png that is in the same directory as this notebook to see the above image in more detail and zoom in as you need.\n",
    "\n",
    "Addtionally, the WWI team asked you the deliver the following outputs in **4 weeks**:\n",
    "- Understand and model the database in MongoDB.\n",
    "- Setup the database so that it is performs well for the queries they have provided. You should include reasoning in comments for the decisions you make on modelling the database.\n",
    "- Answer the questions (queries) on the data provided.  \n",
    "- Submit the results by following the instructions.  \n",
    "\n",
    "With these deliveries, you will have created a prototype and allows the management to decide whether MongoDB is a good solution that meets their requirements."
   ]
  },
  {
   "cell_type": "markdown",
   "metadata": {},
   "source": [
    "### Design Requirements\n",
    "\n",
    "Note that WWI has the following query requirements for the database.\n",
    "\n",
    "1. The web team needs to know:  \n",
    "    1. Which state province do we have the most suppliers in?  \n",
    "    2. How many people have three or more `OtherLanguage`? \n",
    "    3. Top 10 most common `OtherLanguage` for people records. \n",
    "    4. How many customer records are valid after `November 2015`? \n",
    "    5. What percentage of people records don't have the UserPreferences field? \n",
    "\n",
    "2. The warehouse group needs to know:  \n",
    "    1. What is the average difference in days between OrderDate and ExpectedDeliveryDate for orders sold by (`SalespersonPersonID`) person with the name `Jack Potter`?\n",
    "    2. Which items get ordered the most in bulk (largest average quantity ordered)?  \n",
    "    3. Which two items get ordered together the most?\n",
    "    4. For each customer category which 3 items have the ordered the most?\n",
    "    5. What is the current stock of each stockgroup?\n",
    "\n",
    "Transform the mongo dump file provided with this notebook and model a database following mongodb's best practices. You should adjust the data model to best fit the use cases provided above. Think about collections, embedding, linking, indexing, and the patterns learned in class. Provide justifications for each decision you make. What, if any, are the trade-off's or disadvantages of your approach.\n",
    "\n",
    "Use MongoDB queries to answer the questions on your transformed database.\n",
    "\n",
    "### Deliverables\n",
    "\n",
    "1. Notebook with all DB creation operations and CRUD operations to create the data model. **Important** you should include in comments justification for your decisions on modelling the data.;\n",
    "2. Second notebook with all required queries and answers for the questions, **Important** please indicate with comments the steps in the data model you took to optimise each query;\n"
   ]
  },
  {
   "cell_type": "markdown",
   "metadata": {},
   "source": [
    "# Additional Information\n",
    "\n",
    "## Groups  \n",
    "\n",
    "Students should form groups of at least 4 and at most 5. <br>\n",
    "\n",
    "## Submission  Deadline\n",
    "\n",
    "The submission includes two notebooks with outputs (cells must be run). \n",
    "Please make sure to indicate:\n",
    "1. group number,\n",
    "2. group members with student names and numbers,\n",
    "3. the name of the database that you created. <br>\n",
    "\n",
    "Upload the notebook on moodle before **23:59 on June 22nd**\n",
    "\n",
    "## Evaluation   \n",
    "\n",
    "The second homework assignment counts 40% towards your final mark of the curricular unit. <br>\n",
    "The assignment will be scored from 0 to 20. <br>\n",
    "\n",
    "Each group submission will be evaluated on three components:\n",
    "1. correctness of results;\n",
    "2. simplicity and performance characteristics of the solution;\n",
    "3. justification of decisions.\n",
    "\n",
    "50% -  Database design  \n",
    "50% -  Query results including performance\n",
    "\n",
    "Please note that all code delivered in this assignment will go through plagiarism automated checks. <br>\n",
    "Groups with high similarity levels in their code will undergo investigation.\n"
   ]
  },
  {
   "cell_type": "markdown",
   "metadata": {},
   "source": [
    "# Database setup"
   ]
  },
  {
   "cell_type": "markdown",
   "metadata": {},
   "source": [
    "## Import"
   ]
  },
  {
   "cell_type": "code",
   "execution_count": 1,
   "metadata": {},
   "outputs": [],
   "source": [
    "#!pip install pymongo"
   ]
  },
  {
   "cell_type": "code",
   "execution_count": 3,
   "metadata": {},
   "outputs": [],
   "source": [
    "# Python connector\n",
    "from pymongo import MongoClient\n",
    "from bson.objectid import ObjectId\n",
    "from pprint import pprint\n",
    "import json\n",
    "from datetime import datetime\n",
    "\n",
    "user=\"AzureDiamond\"\n",
    "password=\"hunter2\"\n",
    "host=\"localhost\"\n",
    "port=\"27017\"\n",
    "protocol=\"mongodb\"\n",
    "\n",
    "client = MongoClient(f\"{protocol}://{user}:{password}@{host}:{port}\")"
   ]
  },
  {
   "cell_type": "code",
   "execution_count": 4,
   "metadata": {
    "scrolled": false
   },
   "outputs": [
    {
     "name": "stdout",
     "output_type": "stream",
     "text": [
      "Database info: Database(MongoClient(host=['localhost:27017'], document_class=dict, tz_aware=False, connect=True), 'WideWorldImporters')\n",
      "\n"
     ]
    }
   ],
   "source": [
    "db = client.WideWorldImporters\n",
    "print(f\"Database info: {db}\\n\")"
   ]
  },
  {
   "cell_type": "code",
   "execution_count": 5,
   "metadata": {},
   "outputs": [],
   "source": [
    "client.drop_database(\"mydatabase\")\n",
    "db_new = client[\"mydatabase\"]"
   ]
  },
  {
   "cell_type": "code",
   "execution_count": 6,
   "metadata": {},
   "outputs": [
    {
     "name": "stdout",
     "output_type": "stream",
     "text": [
      "The database contains 25 collections\n",
      "First 5 collections: ['suppliertransactions', 'stockgroups', 'stockitemstransactions', 'suppliercategories', 'packagetypes']\n"
     ]
    }
   ],
   "source": [
    "collection_list = db.list_collection_names()\n",
    "print(f\"The database contains {len(collection_list)} collections\")\n",
    "\n",
    "print(f\"First 5 collections: {collection_list[0:5]}\")"
   ]
  },
  {
   "cell_type": "code",
   "execution_count": 7,
   "metadata": {},
   "outputs": [
    {
     "data": {
      "text/plain": [
       "['suppliertransactions',\n",
       " 'stockgroups',\n",
       " 'stockitemstransactions',\n",
       " 'suppliercategories',\n",
       " 'packagetypes',\n",
       " 'purchaseorderlines',\n",
       " 'orderlines',\n",
       " 'orders',\n",
       " 'stockitemsstockgroups',\n",
       " 'colors',\n",
       " 'purchaseorders',\n",
       " 'deliverymethods',\n",
       " 'customercategories',\n",
       " 'customertransactions',\n",
       " 'invoices',\n",
       " 'customers',\n",
       " 'invoicelines',\n",
       " 'people',\n",
       " 'cities',\n",
       " 'stockitems',\n",
       " 'stateprovinces',\n",
       " 'countries',\n",
       " 'paymentmethods',\n",
       " 'transactiontypes',\n",
       " 'suppliers']"
      ]
     },
     "execution_count": 7,
     "metadata": {},
     "output_type": "execute_result"
    }
   ],
   "source": [
    "db.list_collection_names()"
   ]
  },
  {
   "cell_type": "markdown",
   "metadata": {},
   "source": [
    "## Embeddings"
   ]
  },
  {
   "cell_type": "code",
   "execution_count": 8,
   "metadata": {},
   "outputs": [
    {
     "data": {
      "text/plain": [
       "[]"
      ]
     },
     "execution_count": 8,
     "metadata": {},
     "output_type": "execute_result"
    }
   ],
   "source": [
    "db_new.list_collection_names()"
   ]
  },
  {
   "cell_type": "code",
   "execution_count": 9,
   "metadata": {},
   "outputs": [],
   "source": [
    "# Embedding Customer Categories and Provinces in Customers\n",
    "\n",
    "query_1 = {\n",
    "        \"$lookup\":{\n",
    "           \"from\": \"customercategories\",\n",
    "           \"localField\": \"CustomerCategoryID\",\n",
    "           \"foreignField\": \"CustomerCategoryID\",\n",
    "           \"as\": \"category\"\n",
    "        }\n",
    "    }\n",
    "\n",
    "query_2 = {\n",
    "        \"$lookup\":{\n",
    "           \"from\": \"cities\",\n",
    "           \"localField\": \"PostalCityID\",\n",
    "           \"foreignField\": \"CityID\",\n",
    "           \"as\": \"city\"\n",
    "        }\n",
    "    }\n",
    "\n",
    "\n",
    "query_3 = {\n",
    "        \"$lookup\":{\n",
    "           \"from\": \"stateprovinces\",\n",
    "           \"localField\": \"city.StateProvinceID\",\n",
    "           \"foreignField\": \"StateProvinceID\",\n",
    "           \"as\": \"province\"\n",
    "        }\n",
    "    }\n",
    "\n",
    "\n",
    "query_4 = {\n",
    "            \"$project\": {\n",
    "                \"city\": 0,\n",
    "    }\n",
    "}\n",
    "\n",
    "query_5 = { \n",
    "        \"$merge\" : {\n",
    "            \"into\" : {\"db\": \"mydatabase\", \"coll\": \"customers\"},\n",
    "            \"whenMatched\": \"replace\"\n",
    "        } \n",
    "    }\n",
    "\n",
    "pipeline = [query_1, query_2, query_3, query_4, query_5]\n",
    "\n",
    "r = db.customers.aggregate(pipeline)"
   ]
  },
  {
   "cell_type": "code",
   "execution_count": 10,
   "metadata": {},
   "outputs": [],
   "source": [
    "# Embedding StockGroup in StockItems\n",
    "\n",
    "query_1 = {\n",
    "        \"$lookup\":{\n",
    "           \"from\": \"stockitemsstockgroups\",\n",
    "           \"localField\": \"StockItemID\",\n",
    "           \"foreignField\": \"StockItemID\",\n",
    "           \"as\": \"stockitemgroup\"\n",
    "        }\n",
    "    }\n",
    "\n",
    "\n",
    "query_2 = {\n",
    "        \"$lookup\":{\n",
    "           \"from\": \"stockgroups\",\n",
    "           \"localField\": \"stockitemgroup.StockGroupID\",\n",
    "           \"foreignField\": \"StockGroupID\",\n",
    "           \"as\": \"stockgroup\"\n",
    "        }\n",
    "    }\n",
    "\n",
    "\n",
    "query_3 = {\n",
    "            \"$project\": {\n",
    "                \"stockitemgroup\": 0,\n",
    "    }\n",
    "}\n",
    "\n",
    "query_4 = { \n",
    "        \"$merge\" : {\n",
    "            \"into\" : {\"db\": \"mydatabase\", \"coll\": \"stocks\"},\n",
    "            \"whenMatched\": \"replace\"\n",
    "        } \n",
    "    }\n",
    "\n",
    "pipeline = [query_1, query_2, query_3, query_4]\n",
    "\n",
    "r = db.stockitems.aggregate(pipeline)"
   ]
  },
  {
   "cell_type": "code",
   "execution_count": 11,
   "metadata": {},
   "outputs": [],
   "source": [
    "# Embedding Provinces in Suppliers\n",
    "\n",
    "query_1 = {\n",
    "        \"$lookup\":{\n",
    "           \"from\": \"cities\",\n",
    "           \"localField\": \"PostalCityID\",\n",
    "           \"foreignField\": \"CityID\",\n",
    "           \"as\": \"city\"\n",
    "        }\n",
    "    }\n",
    "\n",
    "\n",
    "query_2 = {\n",
    "        \"$lookup\":{\n",
    "           \"from\": \"stateprovinces\",\n",
    "           \"localField\": \"city.StateProvinceID\",\n",
    "           \"foreignField\": \"StateProvinceID\",\n",
    "           \"as\": \"province\"\n",
    "        }\n",
    "    }\n",
    "\n",
    "\n",
    "query_3 = {\n",
    "            \"$project\": {\n",
    "                \"city\": 0,\n",
    "    }\n",
    "}\n",
    "\n",
    "query_4 = { \n",
    "        \"$merge\" : {\n",
    "            \"into\" : {\"db\": \"mydatabase\", \"coll\": \"suppliers\"},\n",
    "            \"whenMatched\": \"replace\"\n",
    "        } \n",
    "    }\n",
    "\n",
    "pipeline = [query_1, query_2, query_3, query_4]\n",
    "\n",
    "r = db.suppliers.aggregate(pipeline)"
   ]
  },
  {
   "cell_type": "code",
   "execution_count": 12,
   "metadata": {},
   "outputs": [],
   "source": [
    "# Embedding Orderlines in Orders\n",
    "# takes 3 hours\n",
    "\n",
    "query_1 = {\n",
    "        \"$lookup\":{\n",
    "           \"from\": \"orderlines\",\n",
    "           \"localField\": \"OrderID\",\n",
    "           \"foreignField\": \"OrderID\",\n",
    "           \"as\": \"OrderID\"\n",
    "        }\n",
    "    }\n",
    "\n",
    "query_2 = { \n",
    "        \"$merge\" : {\n",
    "            \"into\" : {\"db\": \"mydatabase\", \"coll\": \"orders\"},\n",
    "            \"whenMatched\": \"replace\"\n",
    "        } \n",
    "    }\n",
    "\n",
    "pipeline = [query_1, query_2]\n",
    "\n",
    "r = db.orders.aggregate(pipeline)\n"
   ]
  },
  {
   "cell_type": "code",
   "execution_count": 13,
   "metadata": {},
   "outputs": [],
   "source": [
    "# Embedding Customers in Orders\n",
    "\n",
    "query_1 = {\n",
    "        \"$lookup\":{\n",
    "           \"from\": \"customers\",\n",
    "           \"localField\": \"CustomerID\",\n",
    "           \"foreignField\": \"CustomerID\",\n",
    "           \"as\": \"CustomerID\"\n",
    "        }\n",
    "    }\n",
    "\n",
    "query_2 = { \n",
    "        \"$merge\" : {\n",
    "            \"into\" : {\"db\": \"mydatabase\", \"coll\": \"orders\"},\n",
    "            \"whenMatched\": \"replace\"\n",
    "        } \n",
    "    }\n",
    "\n",
    "pipeline = [query_1, query_2]\n",
    "\n",
    "r = db_new.orders.aggregate(pipeline)"
   ]
  },
  {
   "cell_type": "code",
   "execution_count": 14,
   "metadata": {},
   "outputs": [],
   "source": [
    "# Embedd people in orders\n",
    "\n",
    "query_1 = {\n",
    "        \"$lookup\":{\n",
    "           \"from\": \"people\",\n",
    "           \"localField\": \"SalespersonPersonID\",\n",
    "           \"foreignField\": \"PersonID\",\n",
    "           \"as\": \"Salesperson\"\n",
    "        }\n",
    "    }\n",
    "\n",
    "query_2 = { \n",
    "        \"$merge\" : {\n",
    "            \"into\" : {\"db\": \"mydatabase\", \"coll\": \"orders\"},\n",
    "            \"whenMatched\": \"replace\"\n",
    "        } \n",
    "    }\n",
    "\n",
    "pipeline = [query_1, query_2]\n",
    "\n",
    "r = db_new.orders.aggregate(pipeline)"
   ]
  },
  {
   "cell_type": "code",
   "execution_count": 15,
   "metadata": {},
   "outputs": [
    {
     "ename": "AutoReconnect",
     "evalue": "localhost:27017: connection closed",
     "output_type": "error",
     "traceback": [
      "\u001b[1;31m---------------------------------------------------------------------------\u001b[0m",
      "\u001b[1;31mOSError\u001b[0m                                   Traceback (most recent call last)",
      "\u001b[1;32m~\\anaconda3\\lib\\site-packages\\pymongo\\pool.py\u001b[0m in \u001b[0;36mcommand\u001b[1;34m(self, dbname, spec, read_preference, codec_options, check, allowable_errors, read_concern, write_concern, parse_write_concern_error, collation, session, client, retryable_write, publish_events, user_fields, exhaust_allowed)\u001b[0m\n\u001b[0;32m    742\u001b[0m         \u001b[1;32mtry\u001b[0m\u001b[1;33m:\u001b[0m\u001b[1;33m\u001b[0m\u001b[1;33m\u001b[0m\u001b[0m\n\u001b[1;32m--> 743\u001b[1;33m             return command(\n\u001b[0m\u001b[0;32m    744\u001b[0m                 \u001b[0mself\u001b[0m\u001b[1;33m,\u001b[0m\u001b[1;33m\u001b[0m\u001b[1;33m\u001b[0m\u001b[0m\n",
      "\u001b[1;32m~\\anaconda3\\lib\\site-packages\\pymongo\\network.py\u001b[0m in \u001b[0;36mcommand\u001b[1;34m(sock_info, dbname, spec, is_mongos, read_preference, codec_options, session, client, check, allowable_errors, address, listeners, max_bson_size, read_concern, parse_write_concern_error, collation, compression_ctx, use_op_msg, unacknowledged, user_fields, exhaust_allowed)\u001b[0m\n\u001b[0;32m    149\u001b[0m         \u001b[1;32melse\u001b[0m\u001b[1;33m:\u001b[0m\u001b[1;33m\u001b[0m\u001b[1;33m\u001b[0m\u001b[0m\n\u001b[1;32m--> 150\u001b[1;33m             \u001b[0mreply\u001b[0m \u001b[1;33m=\u001b[0m \u001b[0mreceive_message\u001b[0m\u001b[1;33m(\u001b[0m\u001b[0msock_info\u001b[0m\u001b[1;33m,\u001b[0m \u001b[0mrequest_id\u001b[0m\u001b[1;33m)\u001b[0m\u001b[1;33m\u001b[0m\u001b[1;33m\u001b[0m\u001b[0m\n\u001b[0m\u001b[0;32m    151\u001b[0m             \u001b[0msock_info\u001b[0m\u001b[1;33m.\u001b[0m\u001b[0mmore_to_come\u001b[0m \u001b[1;33m=\u001b[0m \u001b[0mreply\u001b[0m\u001b[1;33m.\u001b[0m\u001b[0mmore_to_come\u001b[0m\u001b[1;33m\u001b[0m\u001b[1;33m\u001b[0m\u001b[0m\n",
      "\u001b[1;32m~\\anaconda3\\lib\\site-packages\\pymongo\\network.py\u001b[0m in \u001b[0;36mreceive_message\u001b[1;34m(sock_info, request_id, max_message_size)\u001b[0m\n\u001b[0;32m    207\u001b[0m     length, _, response_to, op_code = _UNPACK_HEADER(\n\u001b[1;32m--> 208\u001b[1;33m         \u001b[0m_receive_data_on_socket\u001b[0m\u001b[1;33m(\u001b[0m\u001b[0msock_info\u001b[0m\u001b[1;33m,\u001b[0m \u001b[1;36m16\u001b[0m\u001b[1;33m,\u001b[0m \u001b[0mdeadline\u001b[0m\u001b[1;33m)\u001b[0m\u001b[1;33m\u001b[0m\u001b[1;33m\u001b[0m\u001b[0m\n\u001b[0m\u001b[0;32m    209\u001b[0m     )\n",
      "\u001b[1;32m~\\anaconda3\\lib\\site-packages\\pymongo\\network.py\u001b[0m in \u001b[0;36m_receive_data_on_socket\u001b[1;34m(sock_info, length, deadline)\u001b[0m\n\u001b[0;32m    286\u001b[0m         \u001b[1;32mif\u001b[0m \u001b[0mchunk_length\u001b[0m \u001b[1;33m==\u001b[0m \u001b[1;36m0\u001b[0m\u001b[1;33m:\u001b[0m\u001b[1;33m\u001b[0m\u001b[1;33m\u001b[0m\u001b[0m\n\u001b[1;32m--> 287\u001b[1;33m             \u001b[1;32mraise\u001b[0m \u001b[0mOSError\u001b[0m\u001b[1;33m(\u001b[0m\u001b[1;34m\"connection closed\"\u001b[0m\u001b[1;33m)\u001b[0m\u001b[1;33m\u001b[0m\u001b[1;33m\u001b[0m\u001b[0m\n\u001b[0m\u001b[0;32m    288\u001b[0m \u001b[1;33m\u001b[0m\u001b[0m\n",
      "\u001b[1;31mOSError\u001b[0m: connection closed",
      "\nThe above exception was the direct cause of the following exception:\n",
      "\u001b[1;31mAutoReconnect\u001b[0m                             Traceback (most recent call last)",
      "\u001b[1;32m<ipython-input-15-4f252079f23b>\u001b[0m in \u001b[0;36m<module>\u001b[1;34m\u001b[0m\n\u001b[0;32m     19\u001b[0m \u001b[0mpipeline\u001b[0m \u001b[1;33m=\u001b[0m \u001b[1;33m[\u001b[0m\u001b[0mquery_1\u001b[0m\u001b[1;33m,\u001b[0m \u001b[0mquery_2\u001b[0m\u001b[1;33m]\u001b[0m\u001b[1;33m\u001b[0m\u001b[1;33m\u001b[0m\u001b[0m\n\u001b[0;32m     20\u001b[0m \u001b[1;33m\u001b[0m\u001b[0m\n\u001b[1;32m---> 21\u001b[1;33m \u001b[0mr\u001b[0m \u001b[1;33m=\u001b[0m \u001b[0mdb\u001b[0m\u001b[1;33m.\u001b[0m\u001b[0minvoices\u001b[0m\u001b[1;33m.\u001b[0m\u001b[0maggregate\u001b[0m\u001b[1;33m(\u001b[0m\u001b[0mpipeline\u001b[0m\u001b[1;33m)\u001b[0m\u001b[1;33m\u001b[0m\u001b[1;33m\u001b[0m\u001b[0m\n\u001b[0m",
      "\u001b[1;32m~\\anaconda3\\lib\\site-packages\\pymongo\\collection.py\u001b[0m in \u001b[0;36maggregate\u001b[1;34m(self, pipeline, session, let, comment, **kwargs)\u001b[0m\n\u001b[0;32m   2400\u001b[0m \u001b[1;33m\u001b[0m\u001b[0m\n\u001b[0;32m   2401\u001b[0m         \u001b[1;32mwith\u001b[0m \u001b[0mself\u001b[0m\u001b[1;33m.\u001b[0m\u001b[0m__database\u001b[0m\u001b[1;33m.\u001b[0m\u001b[0mclient\u001b[0m\u001b[1;33m.\u001b[0m\u001b[0m_tmp_session\u001b[0m\u001b[1;33m(\u001b[0m\u001b[0msession\u001b[0m\u001b[1;33m,\u001b[0m \u001b[0mclose\u001b[0m\u001b[1;33m=\u001b[0m\u001b[1;32mFalse\u001b[0m\u001b[1;33m)\u001b[0m \u001b[1;32mas\u001b[0m \u001b[0ms\u001b[0m\u001b[1;33m:\u001b[0m\u001b[1;33m\u001b[0m\u001b[1;33m\u001b[0m\u001b[0m\n\u001b[1;32m-> 2402\u001b[1;33m             return self._aggregate(\n\u001b[0m\u001b[0;32m   2403\u001b[0m                 \u001b[0m_CollectionAggregationCommand\u001b[0m\u001b[1;33m,\u001b[0m\u001b[1;33m\u001b[0m\u001b[1;33m\u001b[0m\u001b[0m\n\u001b[0;32m   2404\u001b[0m                 \u001b[0mpipeline\u001b[0m\u001b[1;33m,\u001b[0m\u001b[1;33m\u001b[0m\u001b[1;33m\u001b[0m\u001b[0m\n",
      "\u001b[1;32m~\\anaconda3\\lib\\site-packages\\pymongo\\collection.py\u001b[0m in \u001b[0;36m_aggregate\u001b[1;34m(self, aggregation_command, pipeline, cursor_class, session, explicit_session, let, comment, **kwargs)\u001b[0m\n\u001b[0;32m   2307\u001b[0m         )\n\u001b[0;32m   2308\u001b[0m \u001b[1;33m\u001b[0m\u001b[0m\n\u001b[1;32m-> 2309\u001b[1;33m         return self.__database.client._retryable_read(\n\u001b[0m\u001b[0;32m   2310\u001b[0m             \u001b[0mcmd\u001b[0m\u001b[1;33m.\u001b[0m\u001b[0mget_cursor\u001b[0m\u001b[1;33m,\u001b[0m\u001b[1;33m\u001b[0m\u001b[1;33m\u001b[0m\u001b[0m\n\u001b[0;32m   2311\u001b[0m             \u001b[0mcmd\u001b[0m\u001b[1;33m.\u001b[0m\u001b[0mget_read_preference\u001b[0m\u001b[1;33m(\u001b[0m\u001b[0msession\u001b[0m\u001b[1;33m)\u001b[0m\u001b[1;33m,\u001b[0m\u001b[1;33m\u001b[0m\u001b[1;33m\u001b[0m\u001b[0m\n",
      "\u001b[1;32m~\\anaconda3\\lib\\site-packages\\pymongo\\mongo_client.py\u001b[0m in \u001b[0;36m_retryable_read\u001b[1;34m(self, func, read_pref, session, address, retryable)\u001b[0m\n\u001b[0;32m   1369\u001b[0m                         \u001b[1;32massert\u001b[0m \u001b[0mlast_error\u001b[0m \u001b[1;32mis\u001b[0m \u001b[1;32mnot\u001b[0m \u001b[1;32mNone\u001b[0m\u001b[1;33m\u001b[0m\u001b[1;33m\u001b[0m\u001b[0m\n\u001b[0;32m   1370\u001b[0m                         \u001b[1;32mraise\u001b[0m \u001b[0mlast_error\u001b[0m\u001b[1;33m\u001b[0m\u001b[1;33m\u001b[0m\u001b[0m\n\u001b[1;32m-> 1371\u001b[1;33m                     \u001b[1;32mreturn\u001b[0m \u001b[0mfunc\u001b[0m\u001b[1;33m(\u001b[0m\u001b[0msession\u001b[0m\u001b[1;33m,\u001b[0m \u001b[0mserver\u001b[0m\u001b[1;33m,\u001b[0m \u001b[0msock_info\u001b[0m\u001b[1;33m,\u001b[0m \u001b[0mread_pref\u001b[0m\u001b[1;33m)\u001b[0m\u001b[1;33m\u001b[0m\u001b[1;33m\u001b[0m\u001b[0m\n\u001b[0m\u001b[0;32m   1372\u001b[0m             \u001b[1;32mexcept\u001b[0m \u001b[0mServerSelectionTimeoutError\u001b[0m\u001b[1;33m:\u001b[0m\u001b[1;33m\u001b[0m\u001b[1;33m\u001b[0m\u001b[0m\n\u001b[0;32m   1373\u001b[0m                 \u001b[1;32mif\u001b[0m \u001b[0mretrying\u001b[0m\u001b[1;33m:\u001b[0m\u001b[1;33m\u001b[0m\u001b[1;33m\u001b[0m\u001b[0m\n",
      "\u001b[1;32m~\\anaconda3\\lib\\site-packages\\pymongo\\aggregation.py\u001b[0m in \u001b[0;36mget_cursor\u001b[1;34m(self, session, server, sock_info, read_preference)\u001b[0m\n\u001b[0;32m    138\u001b[0m \u001b[1;33m\u001b[0m\u001b[0m\n\u001b[0;32m    139\u001b[0m         \u001b[1;31m# Run command.\u001b[0m\u001b[1;33m\u001b[0m\u001b[1;33m\u001b[0m\u001b[1;33m\u001b[0m\u001b[0m\n\u001b[1;32m--> 140\u001b[1;33m         result = sock_info.command(\n\u001b[0m\u001b[0;32m    141\u001b[0m             \u001b[0mself\u001b[0m\u001b[1;33m.\u001b[0m\u001b[0m_database\u001b[0m\u001b[1;33m.\u001b[0m\u001b[0mname\u001b[0m\u001b[1;33m,\u001b[0m\u001b[1;33m\u001b[0m\u001b[1;33m\u001b[0m\u001b[0m\n\u001b[0;32m    142\u001b[0m             \u001b[0mcmd\u001b[0m\u001b[1;33m,\u001b[0m\u001b[1;33m\u001b[0m\u001b[1;33m\u001b[0m\u001b[0m\n",
      "\u001b[1;32m~\\anaconda3\\lib\\site-packages\\pymongo\\pool.py\u001b[0m in \u001b[0;36mcommand\u001b[1;34m(self, dbname, spec, read_preference, codec_options, check, allowable_errors, read_concern, write_concern, parse_write_concern_error, collation, session, client, retryable_write, publish_events, user_fields, exhaust_allowed)\u001b[0m\n\u001b[0;32m    768\u001b[0m         \u001b[1;31m# Catch socket.error, KeyboardInterrupt, etc. and close ourselves.\u001b[0m\u001b[1;33m\u001b[0m\u001b[1;33m\u001b[0m\u001b[1;33m\u001b[0m\u001b[0m\n\u001b[0;32m    769\u001b[0m         \u001b[1;32mexcept\u001b[0m \u001b[0mBaseException\u001b[0m \u001b[1;32mas\u001b[0m \u001b[0merror\u001b[0m\u001b[1;33m:\u001b[0m\u001b[1;33m\u001b[0m\u001b[1;33m\u001b[0m\u001b[0m\n\u001b[1;32m--> 770\u001b[1;33m             \u001b[0mself\u001b[0m\u001b[1;33m.\u001b[0m\u001b[0m_raise_connection_failure\u001b[0m\u001b[1;33m(\u001b[0m\u001b[0merror\u001b[0m\u001b[1;33m)\u001b[0m\u001b[1;33m\u001b[0m\u001b[1;33m\u001b[0m\u001b[0m\n\u001b[0m\u001b[0;32m    771\u001b[0m \u001b[1;33m\u001b[0m\u001b[0m\n\u001b[0;32m    772\u001b[0m     \u001b[1;32mdef\u001b[0m \u001b[0msend_message\u001b[0m\u001b[1;33m(\u001b[0m\u001b[0mself\u001b[0m\u001b[1;33m,\u001b[0m \u001b[0mmessage\u001b[0m\u001b[1;33m,\u001b[0m \u001b[0mmax_doc_size\u001b[0m\u001b[1;33m)\u001b[0m\u001b[1;33m:\u001b[0m\u001b[1;33m\u001b[0m\u001b[1;33m\u001b[0m\u001b[0m\n",
      "\u001b[1;32m~\\anaconda3\\lib\\site-packages\\pymongo\\pool.py\u001b[0m in \u001b[0;36m_raise_connection_failure\u001b[1;34m(self, error)\u001b[0m\n\u001b[0;32m    926\u001b[0m         \u001b[1;31m# SSLError from PyOpenSSL inherits directly from Exception.\u001b[0m\u001b[1;33m\u001b[0m\u001b[1;33m\u001b[0m\u001b[1;33m\u001b[0m\u001b[0m\n\u001b[0;32m    927\u001b[0m         \u001b[1;32mif\u001b[0m \u001b[0misinstance\u001b[0m\u001b[1;33m(\u001b[0m\u001b[0merror\u001b[0m\u001b[1;33m,\u001b[0m \u001b[1;33m(\u001b[0m\u001b[0mIOError\u001b[0m\u001b[1;33m,\u001b[0m \u001b[0mOSError\u001b[0m\u001b[1;33m,\u001b[0m \u001b[0m_SSLError\u001b[0m\u001b[1;33m)\u001b[0m\u001b[1;33m)\u001b[0m\u001b[1;33m:\u001b[0m\u001b[1;33m\u001b[0m\u001b[1;33m\u001b[0m\u001b[0m\n\u001b[1;32m--> 928\u001b[1;33m             \u001b[0m_raise_connection_failure\u001b[0m\u001b[1;33m(\u001b[0m\u001b[0mself\u001b[0m\u001b[1;33m.\u001b[0m\u001b[0maddress\u001b[0m\u001b[1;33m,\u001b[0m \u001b[0merror\u001b[0m\u001b[1;33m)\u001b[0m\u001b[1;33m\u001b[0m\u001b[1;33m\u001b[0m\u001b[0m\n\u001b[0m\u001b[0;32m    929\u001b[0m         \u001b[1;32melse\u001b[0m\u001b[1;33m:\u001b[0m\u001b[1;33m\u001b[0m\u001b[1;33m\u001b[0m\u001b[0m\n\u001b[0;32m    930\u001b[0m             \u001b[1;32mraise\u001b[0m\u001b[1;33m\u001b[0m\u001b[1;33m\u001b[0m\u001b[0m\n",
      "\u001b[1;32m~\\anaconda3\\lib\\site-packages\\pymongo\\pool.py\u001b[0m in \u001b[0;36m_raise_connection_failure\u001b[1;34m(address, error, msg_prefix)\u001b[0m\n\u001b[0;32m    271\u001b[0m         \u001b[1;32mraise\u001b[0m \u001b[0mNetworkTimeout\u001b[0m\u001b[1;33m(\u001b[0m\u001b[0mmsg\u001b[0m\u001b[1;33m)\u001b[0m \u001b[1;32mfrom\u001b[0m \u001b[0merror\u001b[0m\u001b[1;33m\u001b[0m\u001b[1;33m\u001b[0m\u001b[0m\n\u001b[0;32m    272\u001b[0m     \u001b[1;32melse\u001b[0m\u001b[1;33m:\u001b[0m\u001b[1;33m\u001b[0m\u001b[1;33m\u001b[0m\u001b[0m\n\u001b[1;32m--> 273\u001b[1;33m         \u001b[1;32mraise\u001b[0m \u001b[0mAutoReconnect\u001b[0m\u001b[1;33m(\u001b[0m\u001b[0mmsg\u001b[0m\u001b[1;33m)\u001b[0m \u001b[1;32mfrom\u001b[0m \u001b[0merror\u001b[0m\u001b[1;33m\u001b[0m\u001b[1;33m\u001b[0m\u001b[0m\n\u001b[0m\u001b[0;32m    274\u001b[0m \u001b[1;33m\u001b[0m\u001b[0m\n\u001b[0;32m    275\u001b[0m \u001b[1;33m\u001b[0m\u001b[0m\n",
      "\u001b[1;31mAutoReconnect\u001b[0m: localhost:27017: connection closed"
     ]
    }
   ],
   "source": [
    "# Embedded Invoicelines in Invoice\n",
    "\n",
    "query_1 = {\n",
    "        \"$lookup\":{\n",
    "           \"from\": \"invoicelines\",\n",
    "           \"localField\": \"InvoiceID\",\n",
    "           \"foreignField\": \"InvoiceID\",\n",
    "           \"as\": \"InvoiceID\"\n",
    "        }\n",
    "    }\n",
    "\n",
    "query_2 = { \n",
    "        \"$merge\" : {\n",
    "            \"into\" : {\"db\": \"mydatabase\", \"coll\": \"invoices\"},\n",
    "            \"whenMatched\": \"replace\"\n",
    "        } \n",
    "    }\n",
    "\n",
    "pipeline = [query_1, query_2]\n",
    "\n",
    "r = db.invoices.aggregate(pipeline)"
   ]
  },
  {
   "cell_type": "code",
   "execution_count": 17,
   "metadata": {},
   "outputs": [],
   "source": [
    "# Take over the peoples collection in the new database\n",
    "\n",
    "query_1 = { \n",
    "        \"$merge\" : {\n",
    "            \"into\" : {\"db\": \"mydatabase\", \"coll\": \"people\"},\n",
    "            \"whenMatched\": \"replace\"\n",
    "        } \n",
    "    }\n",
    "\n",
    "r = db.people.aggregate([query_1])\n",
    "\n",
    "# Change type of \"OtherLanguages\" to JSON Object\n",
    "\n",
    "# for person in db_new.people.find():\n",
    "#     lang = person[\"OtherLanguages\"]\n",
    "#     if lang == None:\n",
    "#         continue\n",
    "#     lang = json.loads(lang)\n",
    "#     filter = {\"PersonID\" : person[\"PersonID\"]}\n",
    "#     newvalues = { \"$set\": { 'OtherLanguages': lang } }\n",
    "#     db_new.people.update_one(filter, newvalues)"
   ]
  },
  {
   "cell_type": "code",
   "execution_count": 18,
   "metadata": {},
   "outputs": [],
   "source": [
    "# Take over the stockitemstransactions collection in the new database and embedding stockitems in it\n",
    "\n",
    "query_1 = { \n",
    "        \"$merge\" : {\n",
    "            \"into\" : {\"db\": \"mydatabase\", \"coll\": \"stockitemstransactions\"},\n",
    "            \"whenMatched\": \"replace\"\n",
    "        } \n",
    "    }\n",
    "\n",
    "r = db.stockitemstransactions.aggregate([query_1])\n",
    "\n",
    "query_1 = {\n",
    "        \"$lookup\":{\n",
    "           \"from\": \"stocks\",\n",
    "           \"localField\": \"StockItemID\",\n",
    "           \"foreignField\": \"StockItemID\",\n",
    "           \"as\": \"Item\"\n",
    "        }\n",
    "    }\n",
    "\n",
    "query_2 = { \n",
    "        \"$merge\" : {\n",
    "            \"into\" : {\"db\": \"mydatabase\", \"coll\": \"stockitemstransactions\"},\n",
    "            \"whenMatched\": \"replace\"\n",
    "        } \n",
    "    }\n",
    "\n",
    "pipeline = [query_1, query_2]\n",
    "\n",
    "r = db_new.stockitemstransactions.aggregate(pipeline)"
   ]
  },
  {
   "cell_type": "markdown",
   "metadata": {},
   "source": [
    "## References"
   ]
  },
  {
   "cell_type": "markdown",
   "metadata": {},
   "source": [
    "# Queries"
   ]
  },
  {
   "cell_type": "markdown",
   "metadata": {},
   "source": [
    "## The web team needs to know:"
   ]
  },
  {
   "cell_type": "code",
   "execution_count": 19,
   "metadata": {},
   "outputs": [
    {
     "data": {
      "text/plain": [
       "[{'_id': {'Province': ['California']}, 'Count': 3}]"
      ]
     },
     "execution_count": 19,
     "metadata": {},
     "output_type": "execute_result"
    }
   ],
   "source": [
    "# Which state province do we have the most suppliers in?\n",
    "\n",
    "result = list(db_new.suppliers.aggregate([ \n",
    "\n",
    "    {'$group':{'_id':{'Province':'$province.StateProvinceName'}, 'Count':{'$sum':1}}}, \n",
    "    \n",
    "    {'$sort':{'Count' : -1}},\n",
    "    \n",
    "    {'$limit' : 1}\n",
    "]))\n",
    "\n",
    "result"
   ]
  },
  {
   "cell_type": "code",
   "execution_count": 20,
   "metadata": {},
   "outputs": [
    {
     "name": "stdout",
     "output_type": "stream",
     "text": [
      "[{'Count': 3, '_id': 2},\n",
      " {'Count': 3, '_id': 7},\n",
      " {'Count': 3, '_id': 10},\n",
      " {'Count': 3, '_id': 8}]\n"
     ]
    }
   ],
   "source": [
    "# How many people have three or more OtherLanguage?\n",
    "\n",
    "result = list(db_new.people.aggregate([\n",
    "\n",
    "    {'$match': {\n",
    "        \"OtherLanguages\" : {\"$not\" : {\"$type\" : 10}}\n",
    "    }},\n",
    "\n",
    "    { \"$unwind\": {\n",
    "        \"path\": \"$OtherLanguages\",\n",
    "        \"preserveNullAndEmptyArrays\": False\n",
    "    } },\n",
    "{\n",
    "    \"$group\": {\n",
    "        \"_id\": \"$PersonID\",\n",
    "        \"Count\": {\n",
    "            \"$sum\": 1\n",
    "        }\n",
    "    }\n",
    "},\n",
    "{\n",
    "    \"$match\": {\n",
    "        \"Count\" :  {\"$gte\":3}\n",
    "    }\n",
    "},\n",
    "]))\n",
    "\n",
    "pprint(result)"
   ]
  },
  {
   "cell_type": "code",
   "execution_count": 21,
   "metadata": {},
   "outputs": [
    {
     "name": "stdout",
     "output_type": "stream",
     "text": [
      "[{'Count': 3, '_id': 'Greek'},\n",
      " {'Count': 3, '_id': 'Dutch'},\n",
      " {'Count': 3, '_id': 'Finnish'},\n",
      " {'Count': 2, '_id': 'Slovak'},\n",
      " {'Count': 2, '_id': 'Arabic'},\n",
      " {'Count': 2, '_id': 'Croatian'},\n",
      " {'Count': 2, '_id': 'Lithuanian'},\n",
      " {'Count': 2, '_id': 'Polish'},\n",
      " {'Count': 2, '_id': 'Romanian'},\n",
      " {'Count': 1, '_id': 'Estonian'}]\n"
     ]
    }
   ],
   "source": [
    "# Top 10 most common OtherLanguage for people records.\n",
    "\n",
    "result = list(db_new.people.aggregate([\n",
    "\n",
    "    {'$match': {\n",
    "        \"OtherLanguages\" : {\"$not\" : {\"$type\" : 10}}\n",
    "    }},\n",
    "\n",
    "    { \"$unwind\": {\n",
    "        \"path\": \"$OtherLanguages\",\n",
    "        \"preserveNullAndEmptyArrays\": False\n",
    "    } },\n",
    "{\n",
    "    \"$group\": {\n",
    "        \"_id\": \"$OtherLanguages\",\n",
    "        \"Count\": {\n",
    "            \"$sum\": 1\n",
    "        }\n",
    "    }\n",
    "},\n",
    "{\n",
    "    \"$sort\": {\n",
    "        \"Count\" : -1\n",
    "    }\n",
    "},\n",
    "    \n",
    "{   \"$limit\":10\n",
    "    }\n",
    "    \n",
    "]))\n",
    "\n",
    "pprint(result)"
   ]
  },
  {
   "cell_type": "code",
   "execution_count": 22,
   "metadata": {
    "scrolled": true
   },
   "outputs": [
    {
     "name": "stdout",
     "output_type": "stream",
     "text": [
      "[{'CustomerID': 663}]\n"
     ]
    }
   ],
   "source": [
    "# How many customer records are valid after November 2015?\n",
    "\n",
    "dt = datetime(2015, 11, 1)\n",
    "\n",
    "result = list(db_new.customers.aggregate([\n",
    "\n",
    "    {\"$match\" : {\"ValidTo\" : {\n",
    "        \"$gt\" : dt}}},\n",
    "    {\n",
    "      \"$count\": \"CustomerID\"\n",
    "    }\n",
    "]))\n",
    "\n",
    "pprint(result)"
   ]
  },
  {
   "cell_type": "code",
   "execution_count": 23,
   "metadata": {
    "scrolled": false
   },
   "outputs": [
    {
     "name": "stdout",
     "output_type": "stream",
     "text": [
      "83.61836183618362\n"
     ]
    }
   ],
   "source": [
    "# What percentage of people records don't have the UserPreferences field?\n",
    "\n",
    "result_all = list(db_new.people.aggregate([\n",
    "     {\n",
    "        \"$count\": \"PersonID\"\n",
    "     }\n",
    "    ]))\n",
    "\n",
    "result_all = result_all[0][\"PersonID\"]\n",
    "\n",
    "\n",
    "result = list(db_new.people.aggregate([\n",
    "   \n",
    "    {'$match': {\n",
    "        \"UserPreferences\" : {\"$type\" : 10}}},\n",
    "    {\n",
    "        \"$group\": {\n",
    "                \"_id\": \"$Null\",\n",
    "                \"count\": {\n",
    "                    \"$sum\": 1\n",
    "            }}}\n",
    "    ]))\n",
    "    \n",
    "result = result[0][\"count\"]\n",
    "\n",
    "print(result/result_all*100)"
   ]
  },
  {
   "cell_type": "markdown",
   "metadata": {},
   "source": [
    "## The warehouse group needs to know:"
   ]
  },
  {
   "cell_type": "code",
   "execution_count": 33,
   "metadata": {},
   "outputs": [
    {
     "name": "stdout",
     "output_type": "stream",
     "text": [
      "[]\n"
     ]
    }
   ],
   "source": [
    "# What is the average difference in days between OrderDate and ExpectedDeliveryDate for orders sold by (SalespersonPersonID) person with the name Jack Potter?\n",
    "\n",
    "result = list(db_new.orders.aggregate([\n",
    "\n",
    "    {\"$match\" : {\"Salesperson.FullName\" : \"Jack Potter\"}},\n",
    "    \n",
    ".\n",
    " ]))\n",
    "\n",
    "pprint(result)"
   ]
  },
  {
   "cell_type": "code",
   "execution_count": 31,
   "metadata": {},
   "outputs": [
    {
     "data": {
      "text/plain": [
       "{'_id': ObjectId('6287c5ec636e5a126944ceae'),\n",
       " 'OrderID': [{'_id': ObjectId('6287c5d0636e5a126941469a'),\n",
       "   'OrderLineID': 2,\n",
       "   'OrderID': 1,\n",
       "   'StockItemID': 67,\n",
       "   'Description': 'Ride on toy sedan car (Black) 1/12 scale',\n",
       "   'PackageTypeID': 7,\n",
       "   'Quantity': 10,\n",
       "   'UnitPrice': Decimal128('230.00'),\n",
       "   'TaxRate': Decimal128('15.000'),\n",
       "   'PickedQuantity': 10,\n",
       "   'PickingCompletedWhen': datetime.datetime(2013, 1, 1, 11, 0),\n",
       "   'LastEditedBy': 3,\n",
       "   'LastEditedWhen': datetime.datetime(2013, 1, 1, 11, 0)}],\n",
       " 'CustomerID': [{'_id': ObjectId('6287c598636e5a12693dc9c8'),\n",
       "   'CustomerID': 832,\n",
       "   'CustomerName': 'Aakriti Byrraju',\n",
       "   'BillToCustomerID': 832,\n",
       "   'CustomerCategoryID': 4,\n",
       "   'BuyingGroupID': None,\n",
       "   'PrimaryContactPersonID': 3032,\n",
       "   'AlternateContactPersonID': None,\n",
       "   'DeliveryMethodID': 3,\n",
       "   'DeliveryCityID': 13242,\n",
       "   'PostalCityID': 13242,\n",
       "   'CreditLimit': Decimal128('3500.00'),\n",
       "   'AccountOpenedDate': datetime.datetime(2013, 1, 1, 0, 0),\n",
       "   'StandardDiscountPercentage': Decimal128('0.000'),\n",
       "   'IsStatementSent': False,\n",
       "   'IsOnCreditHold': False,\n",
       "   'PaymentDays': 7,\n",
       "   'PhoneNumber': '(216) 555-0100',\n",
       "   'FaxNumber': '(216) 555-0101',\n",
       "   'DeliveryRun': '',\n",
       "   'RunPosition': '',\n",
       "   'WebsiteURL': 'http://www.microsoft.com/AakritiByrraju/',\n",
       "   'DeliveryAddressLine1': 'Suite 24',\n",
       "   'DeliveryAddressLine2': '1345 Jun Avenue',\n",
       "   'DeliveryPostalCode': '90607',\n",
       "   'DeliveryLocation': None,\n",
       "   'PostalAddressLine1': 'PO Box 11',\n",
       "   'PostalAddressLine2': 'Dellucciville',\n",
       "   'PostalPostalCode': '90607',\n",
       "   'LastEditedBy': 1,\n",
       "   'ValidFrom': datetime.datetime(2013, 1, 1, 0, 0),\n",
       "   'ValidTo': datetime.datetime(9999, 12, 31, 23, 59, 59, 999000),\n",
       "   'category': [{'_id': ObjectId('6287c57e636e5a12693dc7f1'),\n",
       "     'CustomerCategoryID': 4,\n",
       "     'CustomerCategoryName': 'Supermarket',\n",
       "     'LastEditedBy': 1,\n",
       "     'ValidFrom': datetime.datetime(2013, 1, 1, 0, 0),\n",
       "     'ValidTo': datetime.datetime(9999, 12, 31, 23, 59, 59, 999000)}],\n",
       "   'province': [{'_id': ObjectId('6287c4fd636e5a12693da66a'),\n",
       "     'StateProvinceID': 36,\n",
       "     'StateProvinceCode': 'OH',\n",
       "     'StateProvinceName': 'Ohio',\n",
       "     'CountryID': 230,\n",
       "     'SalesTerritory': 'Great Lakes',\n",
       "     'Border': None,\n",
       "     'LatestRecordedPopulation': 12514985,\n",
       "     'LastEditedBy': 20,\n",
       "     'ValidFrom': datetime.datetime(2013, 7, 1, 16, 0),\n",
       "     'ValidTo': datetime.datetime(9999, 12, 31, 23, 59, 59, 999000)}]}],\n",
       " 'SalespersonPersonID': 2,\n",
       " 'PickedByPersonID': None,\n",
       " 'ContactPersonID': 3032,\n",
       " 'BackorderOrderID': 45,\n",
       " 'OrderDate': datetime.datetime(2013, 1, 1, 0, 0),\n",
       " 'ExpectedDeliveryDate': datetime.datetime(2013, 1, 2, 0, 0),\n",
       " 'CustomerPurchaseOrderNumber': '12126',\n",
       " 'IsUndersupplyBackordered': True,\n",
       " 'Comments': None,\n",
       " 'DeliveryInstructions': None,\n",
       " 'InternalComments': None,\n",
       " 'PickingCompletedWhen': datetime.datetime(2013, 1, 1, 12, 0),\n",
       " 'LastEditedBy': 7,\n",
       " 'LastEditedWhen': datetime.datetime(2013, 1, 1, 12, 0),\n",
       " 'Salesperson': []}"
      ]
     },
     "execution_count": 31,
     "metadata": {},
     "output_type": "execute_result"
    }
   ],
   "source": [
    "db_new.orders.find_one()"
   ]
  },
  {
   "cell_type": "code",
   "execution_count": 164,
   "metadata": {},
   "outputs": [
    {
     "name": "stdout",
     "output_type": "stream",
     "text": [
      "[{'AvgQuantity': 199.35,\n",
      "  '_id': {'ProductDescription': 'Black and orange fragile despatch tape '\n",
      "                                '48mmx75m',\n",
      "          'ProductID': 191}},\n",
      " {'AvgQuantity': 198.23950870010236,\n",
      "  '_id': {'ProductDescription': 'Black and orange fragile despatch tape '\n",
      "                                '48mmx100m',\n",
      "          'ProductID': 192}},\n",
      " {'AvgQuantity': 145.26190476190476,\n",
      "  '_id': {'ProductDescription': 'Clear packaging tape 48mmx75m',\n",
      "          'ProductID': 189}},\n",
      " {'AvgQuantity': 141.64338919925513,\n",
      "  '_id': {'ProductDescription': 'Shipping carton (Brown) 356x356x279mm',\n",
      "          'ProductID': 185}},\n",
      " {'AvgQuantity': 141.48096564531104,\n",
      "  '_id': {'ProductDescription': '3 kg Courier post bag (White) 300x190x95mm',\n",
      "          'ProductID': 188}}]\n"
     ]
    }
   ],
   "source": [
    "# Which items get ordered the most in bulk (largest average quantity ordered)?\n",
    "\n",
    "# unwind orderlines, group by product, average quantity\n",
    "\n",
    "result = list(db_new.orders.aggregate([\n",
    "    \n",
    "    {\"$unwind\" : \"$OrderID\"},\n",
    "    \n",
    "    {'$group':{'_id':{'ProductDescription': '$OrderID.Description', \"ProductID\":\"$OrderID.StockItemID\"}, 'AvgQuantity':{'$avg': \"$OrderID.Quantity\"}}},\n",
    "    \n",
    "    {\"$sort\" : {\"AvgQuantity\" : -1}},\n",
    "    \n",
    "    {\"$limit\" : 5}\n",
    "\n",
    "]))\n",
    "\n",
    "pprint(result)"
   ]
  },
  {
   "cell_type": "code",
   "execution_count": 22,
   "metadata": {},
   "outputs": [],
   "source": [
    "# Which two items get ordered together the most?\n",
    "\n",
    "result = list(db_new.orders.aggregate([\n",
    "    \n",
    "    {\"$unwind\" : \"$OrderID\"},\n",
    "    \n",
    "    \n",
    "\n",
    "]))\n",
    "\n",
    "pprint(result)"
   ]
  },
  {
   "cell_type": "code",
   "execution_count": 1,
   "metadata": {},
   "outputs": [
    {
     "ename": "NameError",
     "evalue": "name 'db_new' is not defined",
     "output_type": "error",
     "traceback": [
      "\u001b[1;31m---------------------------------------------------------------------------\u001b[0m",
      "\u001b[1;31mNameError\u001b[0m                                 Traceback (most recent call last)",
      "\u001b[1;32m<ipython-input-1-846585d9479d>\u001b[0m in \u001b[0;36m<module>\u001b[1;34m\u001b[0m\n\u001b[1;32m----> 1\u001b[1;33m \u001b[0mdb_new\u001b[0m\u001b[1;33m.\u001b[0m\u001b[0morders\u001b[0m\u001b[1;33m.\u001b[0m\u001b[0mfind_one\u001b[0m\u001b[1;33m(\u001b[0m\u001b[1;33m)\u001b[0m\u001b[1;33m\u001b[0m\u001b[1;33m\u001b[0m\u001b[0m\n\u001b[0m",
      "\u001b[1;31mNameError\u001b[0m: name 'db_new' is not defined"
     ]
    }
   ],
   "source": [
    "db_new.orders.find_one()"
   ]
  },
  {
   "cell_type": "code",
   "execution_count": 180,
   "metadata": {},
   "outputs": [
    {
     "name": "stdout",
     "output_type": "stream",
     "text": [
      "[{'StockItems': [{'Count': 110,\n",
      "                  '_id': {'CustomerCategory': [[4]],\n",
      "                          'StockItemID': '\"The Gu\" red shirt XML tag t-shirt '\n",
      "                                         '(Black) 6XL'}},\n",
      "                 {'Count': 106,\n",
      "                  '_id': {'CustomerCategory': [[4]],\n",
      "                          'StockItemID': '\"The Gu\" red shirt XML tag t-shirt '\n",
      "                                         '(White) 7XL'}},\n",
      "                 {'Count': 104,\n",
      "                  '_id': {'CustomerCategory': [[4]],\n",
      "                          'StockItemID': 'Superhero action jacket (Blue) '\n",
      "                                         'XXS'}}],\n",
      "  '_id': {'Category': [[4]]}},\n",
      " {'StockItems': [{'Count': 95,\n",
      "                  '_id': {'CustomerCategory': [[6]],\n",
      "                          'StockItemID': '\"The Gu\" red shirt XML tag t-shirt '\n",
      "                                         '(White) 3XS'}},\n",
      "                 {'Count': 91,\n",
      "                  '_id': {'CustomerCategory': [[6]],\n",
      "                          'StockItemID': '\"The Gu\" red shirt XML tag t-shirt '\n",
      "                                         '(White) M'}},\n",
      "                 {'Count': 89,\n",
      "                  '_id': {'CustomerCategory': [[6]],\n",
      "                          'StockItemID': 'USB food flash drive - hamburger'}}],\n",
      "  '_id': {'Category': [[6]]}},\n",
      " {'StockItems': [{'Count': 98,\n",
      "                  '_id': {'CustomerCategory': [[5]],\n",
      "                          'StockItemID': 'Alien officer hoodie (Black) 3XL'}},\n",
      "                 {'Count': 94,\n",
      "                  '_id': {'CustomerCategory': [[5]],\n",
      "                          'StockItemID': 'Ride on toy sedan car (Pink) 1/12 '\n",
      "                                         'scale'}},\n",
      "                 {'Count': 94,\n",
      "                  '_id': {'CustomerCategory': [[5]],\n",
      "                          'StockItemID': 'Black and yellow heavy despatch tape '\n",
      "                                         '48mmx100m'}}],\n",
      "  '_id': {'Category': [[5]]}},\n",
      " {'StockItems': [{'Count': 821,\n",
      "                  '_id': {'CustomerCategory': [[3]],\n",
      "                          'StockItemID': 'Dinosaur battery-powered slippers '\n",
      "                                         '(Green) L'}},\n",
      "                 {'Count': 814,\n",
      "                  '_id': {'CustomerCategory': [[3]],\n",
      "                          'StockItemID': 'Halloween skull mask (Gray) L'}},\n",
      "                 {'Count': 806,\n",
      "                  '_id': {'CustomerCategory': [[3]],\n",
      "                          'StockItemID': 'USB food flash drive - sushi roll'}}],\n",
      "  '_id': {'Category': [[3]]}},\n",
      " {'StockItems': [{'Count': 92,\n",
      "                  '_id': {'CustomerCategory': [[7]],\n",
      "                          'StockItemID': 'Red and white urgent despatch tape '\n",
      "                                         '48mmx75m'}},\n",
      "                 {'Count': 91,\n",
      "                  '_id': {'CustomerCategory': [[7]],\n",
      "                          'StockItemID': '\"The Gu\" red shirt XML tag t-shirt '\n",
      "                                         '(Black) 6XL'}},\n",
      "                 {'Count': 91,\n",
      "                  '_id': {'CustomerCategory': [[7]],\n",
      "                          'StockItemID': 'Alien officer hoodie (Black) 3XL'}}],\n",
      "  '_id': {'Category': [[7]]}}]\n"
     ]
    }
   ],
   "source": [
    "# For each customer category which 3 items have the ordered the most?\n",
    "# To answer the question we assumed the number of orders per product. Alternatively the Quantity could have been used\n",
    "# by changing the \"$sum\" argument from 1 to \"$OrderID.Quantity\"\n",
    "\n",
    "result = list(db_new.orders.aggregate([\n",
    "    \n",
    "    {\"$unwind\" : \"$OrderID\"},\n",
    "    \n",
    "    {'$group':{'_id':{'CustomerCategory':'$CustomerID.category.CustomerCategoryID', \"StockItemID\" : \"$OrderID.Description\"}, 'Count':{'$sum':1}}},\n",
    "    \n",
    "    # Due to Mongo DB Version 5.0 (and not 5.2) we were not able to use the $topN below, which would have been the cleaner solution.\n",
    "    \n",
    "    #{'$group':{'_id': '$CustomerCategory', \"StockItems\" : {\"$topN\" : {\"n\" : 3, \"sortBy\" : {\"Count\":-1}, \"output\" : \"$$ROOT\"}}}},\n",
    "    \n",
    "    {\"$sort\" : {\"Count\" : -1}},\n",
    "    \n",
    "    {\"$group\": {\"_id\" : {\"Category\" : \"$_id.CustomerCategory\"}, \"StockItems\" : {\"$push\" : \"$$ROOT\"}}}, \n",
    "    \n",
    "    {\"$project\" : {\"_id\":1, \"StockItems\" : {\"$slice\" : [\"$StockItems\", 3]}}}\n",
    "\n",
    "]))\n",
    "\n",
    "pprint(result)"
   ]
  },
  {
   "cell_type": "code",
   "execution_count": null,
   "metadata": {},
   "outputs": [],
   "source": [
    "# What is the current stock of each stockgroup?\n",
    "\n",
    "result = list(db_new.stockitemstransactions.aggregate([\n",
    "    \n",
    "    {\"$unwind\" : \"$Item.stockgroup\"},\n",
    "    \n",
    "    {\"$group\" : {\"StockGroup\" : \"$Item.stockgroup.StockGroupID\"}, \"Current Stock\" : {\"$sum\" : \"$Quantity\"}}\n",
    "\n",
    "]))\n",
    "\n",
    "pprint(result)"
   ]
  },
  {
   "cell_type": "code",
   "execution_count": 175,
   "metadata": {},
   "outputs": [
    {
     "data": {
      "text/plain": [
       "{'_id': ObjectId('6287c64d636e5a126945f099'),\n",
       " 'StockItemTransactionID': 6293,\n",
       " 'StockItemID': 213,\n",
       " 'TransactionTypeID': 10,\n",
       " 'CustomerID': 28,\n",
       " 'InvoiceID': 1325,\n",
       " 'SupplierID': None,\n",
       " 'PurchaseOrderID': None,\n",
       " 'TransactionOccurredWhen': datetime.datetime(2013, 1, 26, 12, 0),\n",
       " 'Quantity': Decimal128('-10.000'),\n",
       " 'LastEditedBy': 4,\n",
       " 'LastEditedWhen': datetime.datetime(2013, 1, 26, 12, 0),\n",
       " 'Item': [{'_id': ObjectId('6287c78f636e5a12694aa9fb'),\n",
       "   'StockItemID': 213,\n",
       "   'StockItemName': 'Air cushion film 200mmx100mm 325m',\n",
       "   'SupplierID': 7,\n",
       "   'ColorID': None,\n",
       "   'UnitPackageID': 7,\n",
       "   'OuterPackageID': 7,\n",
       "   'Brand': None,\n",
       "   'Size': '325m',\n",
       "   'LeadTimeDays': 14,\n",
       "   'QuantityPerOuter': 1,\n",
       "   'IsChillerStock': False,\n",
       "   'Barcode': None,\n",
       "   'TaxRate': Decimal128('15.000'),\n",
       "   'UnitPrice': Decimal128('87.00'),\n",
       "   'RecommendedRetailPrice': Decimal128('130.07'),\n",
       "   'TypicalWeightPerUnit': Decimal128('5.000'),\n",
       "   'MarketingComments': None,\n",
       "   'InternalComments': None,\n",
       "   'Photo': None,\n",
       "   'CustomFields': '{ \"CountryOfManufacture\": \"China\", \"Tags\": [\"Limited Stock\"] }',\n",
       "   'Tags': '[\"Limited Stock\"]',\n",
       "   'SearchDetails': 'Air cushion film 200mmx100mm 325m ',\n",
       "   'LastEditedBy': 1,\n",
       "   'ValidFrom': datetime.datetime(2016, 5, 31, 23, 12),\n",
       "   'ValidTo': datetime.datetime(9999, 12, 31, 23, 59, 59, 999000),\n",
       "   'stockgroup': [{'_id': ObjectId('6287c7a5636e5a12694aaa34'),\n",
       "     'StockGroupID': 10,\n",
       "     'StockGroupName': 'Packaging Materials',\n",
       "     'LastEditedBy': 1,\n",
       "     'ValidFrom': datetime.datetime(2013, 1, 1, 0, 0),\n",
       "     'ValidTo': datetime.datetime(9999, 12, 31, 23, 59, 59, 999000)}]}]}"
      ]
     },
     "execution_count": 175,
     "metadata": {},
     "output_type": "execute_result"
    }
   ],
   "source": [
    "db_new.stockitemstransactions.find_one()"
   ]
  }
 ],
 "metadata": {
  "hide_input": false,
  "kernelspec": {
   "display_name": "Python 3",
   "language": "python",
   "name": "python3"
  },
  "language_info": {
   "codemirror_mode": {
    "name": "ipython",
    "version": 3
   },
   "file_extension": ".py",
   "mimetype": "text/x-python",
   "name": "python",
   "nbconvert_exporter": "python",
   "pygments_lexer": "ipython3",
   "version": "3.8.8"
  },
  "toc": {
   "base_numbering": 1,
   "nav_menu": {},
   "number_sections": true,
   "sideBar": true,
   "skip_h1_title": false,
   "title_cell": "Table of Contents",
   "title_sidebar": "Contents",
   "toc_cell": false,
   "toc_position": {},
   "toc_section_display": true,
   "toc_window_display": false
  },
  "varInspector": {
   "cols": {
    "lenName": 16,
    "lenType": 16,
    "lenVar": 40
   },
   "kernels_config": {
    "python": {
     "delete_cmd_postfix": "",
     "delete_cmd_prefix": "del ",
     "library": "var_list.py",
     "varRefreshCmd": "print(var_dic_list())"
    },
    "r": {
     "delete_cmd_postfix": ") ",
     "delete_cmd_prefix": "rm(",
     "library": "var_list.r",
     "varRefreshCmd": "cat(var_dic_list()) "
    }
   },
   "types_to_exclude": [
    "module",
    "function",
    "builtin_function_or_method",
    "instance",
    "_Feature"
   ],
   "window_display": false
  }
 },
 "nbformat": 4,
 "nbformat_minor": 4
}
